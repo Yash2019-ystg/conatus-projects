{
  "nbformat": 4,
  "nbformat_minor": 0,
  "metadata": {
    "colab": {
      "name": "share_market_ML.ipynb",
      "provenance": [],
      "authorship_tag": "ABX9TyMBJ7KKumJxmlNBE5Fe+Weu",
      "include_colab_link": true
    },
    "kernelspec": {
      "name": "python3",
      "display_name": "Python 3"
    }
  },
  "cells": [
    {
      "cell_type": "markdown",
      "metadata": {
        "id": "view-in-github",
        "colab_type": "text"
      },
      "source": [
        "<a href=\"https://colab.research.google.com/github/Yash2019-ystg/conatus-projects/blob/master/share_market_ML.ipynb\" target=\"_parent\"><img src=\"https://colab.research.google.com/assets/colab-badge.svg\" alt=\"Open In Colab\"/></a>"
      ]
    },
    {
      "cell_type": "code",
      "metadata": {
        "id": "Sk8FkUZYqLmq"
      },
      "source": [
        "from google.colab import files                     #uploading cse file\n",
        "uploaded = files.upload()"
      ],
      "execution_count": null,
      "outputs": []
    },
    {
      "cell_type": "code",
      "metadata": {
        "id": "bJCMLEKK7re6"
      },
      "source": [
        "import io\n",
        "import pandas as pd\n",
        "import numpy as np\n",
        "\n",
        "df = pd.read_csv(io.BytesIO(uploaded['nifty50.csv']))\n",
        "df.head(20)\n",
        "# df.tail(2)"
      ],
      "execution_count": null,
      "outputs": []
    },
    {
      "cell_type": "code",
      "metadata": {
        "id": "dqmE-Z7y7v07"
      },
      "source": [
        "a = df.pop(\"high\")\n",
        "b = df.pop(\"low\")\n",
        "k = int(len(x.iloc[: , 0]))\n",
        "x = df.iloc[:,:]\n",
        "x.drop(k , axis = 0 , inplace  = True)\n",
        "\n",
        "x.drop([\"index\" , \"time\" , \"date\"] , axis  = 1 , inplace = True)\n",
        "y = a\n",
        "y.pop(0)\n",
        "print(k)\n",
        "print(x.tail(2))"
      ],
      "execution_count": null,
      "outputs": []
    },
    {
      "cell_type": "code",
      "metadata": {
        "id": "Y5UX6KHo7y2k"
      },
      "source": [
        "from sklearn.model_selection import train_test_split\n",
        "x_train, x_test, y_train, y_test = train_test_split(x,y , test_size = 0.29, random_state=15)"
      ],
      "execution_count": null,
      "outputs": []
    },
    {
      "cell_type": "code",
      "metadata": {
        "id": "AfzNWUVd7z7d"
      },
      "source": [
        "from sklearn.linear_model import LinearRegression\n",
        "regressor = LinearRegression()\n",
        "regressor.fit(x_train,y_train)\n",
        "\n",
        "y_pred = regressor.predict(x_test)\n",
        "#print(y_pred)\n",
        "#print(y_test)"
      ],
      "execution_count": null,
      "outputs": []
    },
    {
      "cell_type": "code",
      "metadata": {
        "id": "hN0QWcu974Cl"
      },
      "source": [
        "from sklearn.metrics import r2_score\n",
        "r2 = r2_score(y_test, y_pred)\n",
        "print(r2*100,\"%\")"
      ],
      "execution_count": null,
      "outputs": []
    },
    {
      "cell_type": "code",
      "metadata": {
        "id": "-i10Jqy578Fb"
      },
      "source": [
        "y_pred = regressor.predict([[5693.20,5695.35]])\n",
        "y_pred"
      ],
      "execution_count": null,
      "outputs": []
    }
  ]
}